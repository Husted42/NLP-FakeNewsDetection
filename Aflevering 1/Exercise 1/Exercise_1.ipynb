{
 "cells": [
  {
   "cell_type": "markdown",
   "metadata": {},
   "source": [
    "# Exercise 1 - Regular expression warmup"
   ]
  },
  {
   "cell_type": "code",
   "execution_count": null,
   "metadata": {},
   "outputs": [],
   "source": [
    "import re # opg 1.a\n",
    "data_lines = ['# Measurements started',\n",
    "              '250601231, 250601-1231']\n",
    "\n",
    "pattern = re.compile('^(\\d{2})(\\d{2})(\\d{2})-?(\\d{4})')\n",
    "match = pattern.search(data_lines[1])\n",
    "if match:\n",
    "    print(match.groups(1)) # all specified groups\n",
    "    print(match.group(1))  # Group 0 -> entire matching str\n",
    "    print(match.group(2))  # Group 0 -> entire matching str\n",
    "    print(match.group(3)) # Group 1 -> first set of ()\n",
    "    print(match.group()) # all specified groups\n",
    "    \n",
    "\n",
    "\n",
    "def get_century(IIII, yy):\n",
    "    if IIII in range (0000,3999) and yy in range (00,99): \n",
    "        return \"1900\"\n",
    "    if IIII in range (4000,4999) and yy in range (00,36): \n",
    "        return \"2000\"\n",
    "    if IIII in range (4000,4999) and yy in range (37,99): \n",
    "        return \"1900\"\n",
    "    if IIII in range (5000,8999) and yy in range (00,57): \n",
    "        return \"2000\"\n",
    "    if IIII in range (5000,8999) and yy in range (58,99): \n",
    "        return \"1800\"\n",
    "    if IIII in range (9000,9999) and yy in range (00,36): \n",
    "        return \"2000\"\n",
    "    if IIII in range (9000,9999) and yy in range (37,99): \n",
    "        return \"1900\"\n",
    "\n",
    "\n",
    "yy = int(match.group(3))\n",
    "\n",
    "IIII = int(match.group(4))\n",
    "\n",
    "print(get_century(IIII, yy))\n",
    "\n",
    "\n"
   ]
  },
  {
   "cell_type": "markdown",
   "metadata": {},
   "source": [
    "# Exercise 2 - Processing the FakeNewsCorpus data set"
   ]
  },
  {
   "cell_type": "code",
   "execution_count": null,
   "metadata": {},
   "outputs": [],
   "source": [
    "\n",
    "import csv\n",
    "import re\n",
    "from cleantext import clean\n",
    "\n",
    "\n",
    "\n",
    "with open('news_sample.csv', 'r') as input_file, open('redacted_news_sample.csv','w', newline = '') as output_file :\n",
    "    csv_reader = csv.reader(input_file)\n",
    "    csv_writer = csv.writer(output_file)\n",
    "    for row in csv_reader:\n",
    "        new_row = [cell.lower() for cell in row]\n",
    "        csv_writer.writerow(new_row)\n",
    "\n",
    "\n",
    "with open('redacted_news_sample.csv', 'r') as file:\n",
    "    text = file.read()\n",
    "    text = text.replace('\\n', '')\n",
    "    text = text.replace('  ',' ')\n",
    "    text = text.replace('  ',' ')\n",
    "    text = re.sub(r'-a-zA-Z0-9@:%._\\+~#=]{1,256}\\.[a-zA-Z0-9()]{1,6}\\b([-a-zA-Z0-9()@:%_\\+.~#?&//=]*)', '<URL>', text)\n",
    "    text = re.sub(r'^\\w+@[a-zA-Z_]+?\\.[a-zA-Z]{2,3}$','<MAIL>', text)\n",
    "    text = re.sub(r'(\\d{4})-?(\\d{2})-?(\\d{2})','<DATE>', text)\n",
    "    text = re.sub(r'(\\d+)','<NUM>', text)\n",
    "    \n",
    "\n",
    "\n",
    "# sætter ændringer ind i redacted\n",
    "with open('redacted_news_sample.csv', 'w') as file:\n",
    "    file.write(text)\n",
    "\n",
    "clean(text, \n",
    "    fix_unicode=True, \n",
    "    to_ascii=True, \n",
    "    lower=True, \n",
    "    no_line_breaks=True, \n",
    "    no_urls=True, \n",
    "    no_emails=True, \n",
    "    no_phone_numbers=True, \n",
    "    no_numbers=True, \n",
    "    no_digits=True, \n",
    "    no_currency_symbols=True, \n",
    "    no_punct=True, \n",
    "    replace_with_url=\"<URL>\", \n",
    "    replace_with_email=\"<MAIL>\", \n",
    "    replace_with_phone_number=\"<PHONE>\", \n",
    "    replace_with_number=\"<NUM>\", \n",
    "    replace_with_digit=\"0\", \n",
    "    replace_with_currency_symbol=\"<CUR>\", \n",
    "    lang=\"en\")\n",
    "\n"
   ]
  },
  {
   "cell_type": "markdown",
   "metadata": {},
   "source": [
    "# Exercise 3 - Descriptive frequency analysis of the data"
   ]
  },
  {
   "cell_type": "code",
   "execution_count": 52,
   "metadata": {},
   "outputs": [
    {
     "name": "stdout",
     "output_type": "stream",
     "text": [
      "28808\n",
      "29484\n"
     ]
    },
    {
     "data": {
      "image/png": "[encoded data removed]",
      "text/plain": [
       "<Figure size 640x480 with 1 Axes>"
      ]
     },
     "metadata": {},
     "output_type": "display_data"
    }
   ],
   "source": [
    "\n",
    "import numpy as np\n",
    "import matplotlib.pyplot as plt \n",
    "import itertools\n",
    "\n",
    "\n",
    "def countUniqueWords(filename):\n",
    "\n",
    "    file = open(filename, 'r')\n",
    "    read_file = file.read().lower()\n",
    "    words_in_file = read_file.split()  \n",
    "    count_map = {}\n",
    "    for i in words_in_file:\n",
    "        if i in count_map:\n",
    "            count_map[i] += 1  \n",
    "        else:\n",
    "            count_map[i] = 1\n",
    "    return count_map  \n",
    "\n",
    "print ((len(countUniqueWords('news_sample.csv'))))\n",
    "print ((len(countUniqueWords('redacted_news_sample.csv'))))\n",
    "\n",
    "#calculate the frequency of words in the file\n",
    "SortOrder = dict(sorted(countUniqueWords('news_sample.csv').items(), key=lambda x: x[1], reverse=True))\n",
    "SortOrder1 = dict(sorted(countUniqueWords('redacted_news_sample.csv').items(), key=lambda x: x[1], reverse=True))\n",
    "\n",
    "PlotDict = dict(itertools.islice(SortOrder1.items(), 50))\n",
    "\n",
    "#plot the frequency of words in the file\n",
    "fig = plt.figure()\n",
    "ax = fig.add_axes([0,0,1,1])\n",
    "Words = list((PlotDict).keys())\n",
    "Occurences = list((PlotDict).values())\n",
    "ax.bar(Words, Occurences, color ='maroon', width = 0.4)\n",
    "plt.show()\n",
    "\n"
   ]
  }
 ],
 "metadata": {
  "kernelspec": {
   "display_name": "Python 3.9.13 ('base')",
   "language": "python",
   "name": "python3"
  },
  "language_info": {
   "codemirror_mode": {
    "name": "ipython",
    "version": 3
   },
   "file_extension": ".py",
   "mimetype": "text/x-python",
   "name": "python",
   "nbconvert_exporter": "python",
   "pygments_lexer": "ipython3",
   "version": "3.9.13"
  },
  "orig_nbformat": 4,
  "vscode": {
   "interpreter": {
    "hash": "864f8d8b4840020f26ec67225d5591c64f76831423ee6ca9a625bc7dce437ae7"
   }
  }
 },
 "nbformat": 4,
 "nbformat_minor": 2
}
