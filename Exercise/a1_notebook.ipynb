{
 "cells": [
  {
   "cell_type": "code",
   "execution_count": 17,
   "metadata": {},
   "outputs": [
    {
     "name": "stdout",
     "output_type": "stream",
     "text": [
      "Data\n",
      "[0.888181, 0.684158]\n",
      "\n",
      "Average:\n",
      "0.4950523680000003 0.4989522010000002\n",
      "\n",
      "Transpose:\n",
      "[0.888181, 0.389394, 0.73079, 0.813126, 0.789109, 0.520975, 0.518963, 0.532676, 0.454119, 0.47021][0.684158, 0.733662, 0.673245, 0.805672, 0.559043, 0.145284, 0.874521, 0.562495, 0.022866, 0.373551]\n",
      "\n",
      "Numpy data:\n",
      "[[0.888181 0.684158]\n",
      " [0.389394 0.733662]\n",
      " [0.73079  0.673245]\n",
      " ...\n",
      " [0.862531 0.398245]\n",
      " [0.401358 0.791547]\n",
      " [0.744527 0.427437]]\n",
      "\n",
      "Numpy average:\n",
      "(0.4951, 0.499)\n",
      "\n",
      "Numpy transpose\n",
      "[[0.888181 0.389394 0.73079  ... 0.862531 0.401358 0.744527]\n",
      " [0.684158 0.733662 0.673245 ... 0.398245 0.791547 0.427437]]\n"
     ]
    }
   ],
   "source": [
    "import assignment1 as a\n",
    "\n",
    "print(\"Data\")\n",
    "list_of_rows = a.read_data('data.txt')\n",
    "print(list_of_rows[0])\n",
    "\n",
    "print()\n",
    "print(\"Average:\")\n",
    "col1_avg, col2_avg = a.calc_averages(list_of_rows)\n",
    "print(col1_avg, col2_avg)   \n",
    "\n",
    "print()\n",
    "print(\"Transpose:\")\n",
    "list_of_columns = a.transpose_data(list_of_rows)\n",
    "print(str((list_of_columns[0])[0:10])+ str((list_of_columns[1])[0:10]))\n",
    "\n",
    "print()\n",
    "print(\"Numpy data:\")\n",
    "arrayOfRows = a.getData('data.txt')\n",
    "print(arrayOfRows)\n",
    "\n",
    "print()\n",
    "print(\"Numpy average:\")\n",
    "colAverages = a.calcAverages(arrayOfRows)\n",
    "print(colAverages)\n",
    "\n",
    "print()\n",
    "print(\"Numpy transpose\")\n",
    "transposedArray = a.transpose(arrayOfRows)\n",
    "print(transposedArray)"
   ]
  }
 ],
 "metadata": {
  "kernelspec": {
   "display_name": "Python 3",
   "language": "python",
   "name": "python3"
  },
  "language_info": {
   "codemirror_mode": {
    "name": "ipython",
    "version": 3
   },
   "file_extension": ".py",
   "mimetype": "text/x-python",
   "name": "python",
   "nbconvert_exporter": "python",
   "pygments_lexer": "ipython3",
   "version": "3.9.13"
  },
  "orig_nbformat": 4,
  "vscode": {
   "interpreter": {
    "hash": "75795907b8552c1b7c2d05e7431f51bc4164643b996c8972b31388240cae91af"
   }
  }
 },
 "nbformat": 4,
 "nbformat_minor": 2
}
