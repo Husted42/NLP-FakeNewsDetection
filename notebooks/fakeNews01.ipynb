{
 "cells": [
  {
   "attachments": {},
   "cell_type": "markdown",
   "metadata": {},
   "source": [
    "##### Setup #####"
   ]
  },
  {
   "cell_type": "code",
   "execution_count": 4,
   "metadata": {},
   "outputs": [],
   "source": [
    "#Imports\n",
    "#!pip install gensim\n",
    "import re\n",
    "import csv\n",
    "import os\n",
    "import pandas as pd\n",
    "import nltk\n",
    "from nltk.corpus import stopwords\n",
    "from nltk.tokenize import word_tokenize\n",
    "import matplotlib.pyplot as plt \n",
    "import itertools\n",
    "import numpy as np\n",
    "import sklearn\n",
    "import sklearn.linear_model\n",
    "import pandas as pd\n",
    "from sklearn.metrics import mean_squared_error, accuracy_score, precision_score, recall_score\n",
    "from sklearn.linear_model import LogisticRegression\n",
    "from sklearn.model_selection import GridSearchCV\n",
    "from sklearn.feature_extraction.text import CountVectorizer\n",
    "import gensim\n",
    "from gensim.models import Word2Vec\n",
    "from collections import Counter\n",
    "import gensim.downloader as api\n",
    "\n",
    "import matplotlib.pyplot as plt\n",
    "from sklearn.manifold import TSNE\n",
    "from matplotlib.colors import ListedColormap\n",
    "import seaborn as sns\n",
    "from sklearn import metrics\n"
   ]
  },
  {
   "attachments": {},
   "cell_type": "markdown",
   "metadata": {},
   "source": [
    "Load CSV file, leaving only the collumns we might be interested in."
   ]
  },
  {
   "cell_type": "code",
   "execution_count": 21,
   "metadata": {},
   "outputs": [
    {
     "name": "stdout",
     "output_type": "stream",
     "text": [
      "duplicates:  10211\n",
      "Fake / reliable\n",
      "RangeIndex(start=0, stop=52645, step=1)\n",
      "RangeIndex(start=0, stop=27660, step=1)\n",
      "\n",
      "loaded index\n",
      "RangeIndex(start=0, stop=100000, step=1)\n",
      "\n",
      "filtered\n",
      "       Unnamed: 0      id        type  \\\n",
      "0              10      17  conspiracy   \n",
      "1              11      18  conspiracy   \n",
      "2              12      19  conspiracy   \n",
      "3              13      20  conspiracy   \n",
      "4              56      68  conspiracy   \n",
      "...           ...     ...         ...   \n",
      "80298        7790   96593    reliable   \n",
      "80300        1189  101029    reliable   \n",
      "80301        4169  105092    reliable   \n",
      "80302        4440  105498    reliable   \n",
      "80304        9582  112137    reliable   \n",
      "\n",
      "                                                 content  \\\n",
      "0      \\n\\n\\n\\n\\n\\n\\n\\nRev Dr. Childress is available...   \n",
      "1      \\n\\nSpeaking Engagement Request\\n\\n\\n\\nContact...   \n",
      "2      \"…I have set before you life and death, blessi...   \n",
      "3      Why We Oppose Planned Parent Hood ( The follow...   \n",
      "4           If You Love The Children\\n\\nSaySo March 2014   \n",
      "...                                                  ...   \n",
      "80298  Amid the debate over whether \"fundamentalist C...   \n",
      "80300  It's the football off-season and Denver Bronco...   \n",
      "80301  It's illegal for Christians to pray in public ...   \n",
      "80302  It's illegal for Christians to pray in public ...   \n",
      "80304  The views expressed by the author do not neces...   \n",
      "\n",
      "                      inserted_at  \\\n",
      "0      2018-02-02 01:19:41.756632   \n",
      "1      2018-02-02 01:19:41.756632   \n",
      "2      2018-02-02 01:19:41.756632   \n",
      "3      2018-02-02 01:19:41.756632   \n",
      "4      2018-02-02 01:19:41.756632   \n",
      "...                           ...   \n",
      "80298  2018-02-02 01:19:41.756632   \n",
      "80300  2018-02-02 01:19:41.756632   \n",
      "80301  2018-02-02 01:19:41.756632   \n",
      "80302  2018-02-02 01:19:41.756632   \n",
      "80304  2018-02-02 01:19:41.756632   \n",
      "\n",
      "                                        meta_description  source  \n",
      "0      Find out when and where you can get involved w...     NaN  \n",
      "1                                                    NaN     NaN  \n",
      "2      The Negro Project is a devastating eugenic sta...     NaN  \n",
      "3      A rationale for opposing the work of Planned P...     NaN  \n",
      "4                                                    NaN     NaN  \n",
      "...                                                  ...     ...  \n",
      "80298  Amid the debate over whether \"fundamentalist C...     NaN  \n",
      "80300  It's the football off-season and Denver Bronco...     NaN  \n",
      "80301  It's illegal for Christians to pray in public ...     NaN  \n",
      "80302                                                NaN     NaN  \n",
      "80304  This presidential election confronts Christian...     NaN  \n",
      "\n",
      "[70094 rows x 7 columns]\n",
      "\n",
      "Creates a csv file called: readyData.csv\n"
     ]
    }
   ],
   "source": [
    "''' reads data from a CSV file, filters it by type, removes duplicates and unnecessary columns, and writes the filtered data to a new CSV file.'''\n",
    "##### -- Functions -- #####\n",
    "def getParts():\n",
    "    dropList = ['domain', 'url', 'scraped_at', 'updated_at', 'title', 'authors', 'keywords', 'meta_keywords', 'tags', 'summary' ] # 'source'\n",
    "\n",
    "    df = pd.read_csv('csvFile.csv', nrows=100000)\n",
    "    \n",
    "    # Filter fake\n",
    "    df_fake = df.loc[df['type'] == 'fake']\n",
    "    df_conspiracy = df.loc[df['type'] == 'conspiracy']\n",
    "\n",
    "    #filter reliable\n",
    "    df_reliable = df.loc[df['type'] == 'reliable']\n",
    "    df_political = df.loc[df['type'] == 'political']\n",
    "\n",
    "    #Concat\n",
    "    df_reliable = pd.concat([df_political, df_reliable], ignore_index=True)\n",
    "    df_fake = pd.concat([df_conspiracy, df_fake], ignore_index=True)\n",
    "    df_filtered = pd.concat([df_fake, df_reliable], ignore_index=True)\n",
    "\n",
    "    #Dublicate list\n",
    "    dub = (\"duplicates: \", df_filtered.duplicated(subset=['content']).sum())\n",
    "    total = df_filtered.shape[0]\n",
    "    percentOfDublicates = round(dub / total * 100)\n",
    "    print(\"Duplicates: \" + str(percentOfDublicates) + \"%\")\n",
    "\n",
    "    # Write DataFrame to CSV file\n",
    "    df_filtered = df_filtered.drop(dropList, axis=1)\n",
    "    df_filtered.drop_duplicates(subset=['content'], inplace=True)\n",
    "    df_filtered.to_csv('readyData.csv', index=False)\n",
    "\n",
    "    ##### -- Prints -- #####\n",
    "    print(\"Fake / reliable\")\n",
    "    print(df_fake.index)\n",
    "    print(df_reliable.index)\n",
    "    print(\"\")\n",
    "    print(\"loaded index\")\n",
    "    print(df.index)\n",
    "    print(\"\")\n",
    "    print(\"filtered\")\n",
    "    print(df_filtered)\n",
    "    print(\"\")\n",
    "    print(\"Creates a csv file called: readyData.csv\")\n",
    "#getParts()"
   ]
  },
  {
   "attachments": {},
   "cell_type": "markdown",
   "metadata": {},
   "source": [
    "##### Data overview 1 #####"
   ]
  },
  {
   "cell_type": "code",
   "execution_count": 22,
   "metadata": {},
   "outputs": [
    {
     "name": "stdout",
     "output_type": "stream",
     "text": [
      "Types:\n",
      "Unnamed: 0            int64\n",
      "id                    int64\n",
      "type                 object\n",
      "content              object\n",
      "inserted_at          object\n",
      "meta_description     object\n",
      "source              float64\n",
      "dtype: object\n",
      "\n",
      "Count of Null: \n"
     ]
    },
    {
     "data": {
      "text/plain": [
       "Unnamed: 0              0\n",
       "id                      0\n",
       "type                    0\n",
       "content                 0\n",
       "inserted_at             0\n",
       "meta_description    54822\n",
       "source              70094\n",
       "dtype: int64"
      ]
     },
     "execution_count": 22,
     "metadata": {},
     "output_type": "execute_result"
    }
   ],
   "source": [
    "##### -- Global variables -- #####\n",
    "data01 = pd.read_csv('readyData.csv')\n",
    "\n",
    "##### -- Functions -- #####\n",
    "def types(inp):\n",
    "    results = inp\n",
    "    results = results.dtypes\n",
    "    return results\n",
    "\n",
    "#####  -- prints -- #####\n",
    "print(\"Types:\")\n",
    "print(types(data01))\n",
    "\n",
    "print(\"\")\n",
    "print ('Count of Null: ' )\n",
    "data01.isnull().sum()"
   ]
  },
  {
   "attachments": {},
   "cell_type": "markdown",
   "metadata": {},
   "source": [
    "##### Preproccesing #####"
   ]
  },
  {
   "attachments": {},
   "cell_type": "markdown",
   "metadata": {},
   "source": [
    "Preprocceses the data, preparing it for data exploration and data proccesing."
   ]
  },
  {
   "cell_type": "code",
   "execution_count": 26,
   "metadata": {},
   "outputs": [
    {
     "name": "stdout",
     "output_type": "stream",
     "text": [
      "              0            1   \\\n",
      "0     11972.json         true   \n",
      "1     11685.json        false   \n",
      "2     11096.json        false   \n",
      "3      5209.json    half-true   \n",
      "4      9524.json   pants-fire   \n",
      "...          ...          ...   \n",
      "1262   7334.json    half-true   \n",
      "1263   9788.json  barely-true   \n",
      "1264  10710.json  barely-true   \n",
      "1265   3186.json  barely-true   \n",
      "1266   6743.json        false   \n",
      "\n",
      "                                                     2   \\\n",
      "0              build wall mexico border take liter year   \n",
      "1               wisconsin pace doubl number layoff year   \n",
      "2                    say john mccain done noth help vet   \n",
      "3     suzann bonamici support plan cut choic medicar...   \n",
      "4     ask report whether hes center crimin scheme vi...   \n",
      "...                                                 ...   \n",
      "1262  say budget provid highest state fund level his...   \n",
      "1263                               ive almost everi day   \n",
      "1264  earli 1980s sen edward kennedi secret offer he...   \n",
      "1265  say epa permit languish strickland new epa dir...   \n",
      "1266  say governor go around state talk fund incom t...   \n",
      "\n",
      "                                                     3   \\\n",
      "0                                           immigration   \n",
      "1                                                  jobs   \n",
      "2                       military,veterans,voting-record   \n",
      "3     medicare,message-machine-2012,campaign-adverti...   \n",
      "4     campaign-finance,legal-issues,campaign-adverti...   \n",
      "...                                                 ...   \n",
      "1262                                          education   \n",
      "1263                civil-rights,crime,criminal-justice   \n",
      "1264     bipartisanship,congress,foreign-policy,history   \n",
      "1265                  environment,government-efficiency   \n",
      "1266                  state-budget,state-finances,taxes   \n",
      "\n",
      "                                    4   \\\n",
      "0                           rick-perry   \n",
      "1                    katrina-shankland   \n",
      "2                         donald-trump   \n",
      "3                        rob-cornilles   \n",
      "4     state-democratic-party-wisconsin   \n",
      "...                                ...   \n",
      "1262                        rick-scott   \n",
      "1263                         jay-nixon   \n",
      "1264             mackubin-thomas-owens   \n",
      "1265                       john-kasich   \n",
      "1266                  john-burzichelli   \n",
      "\n",
      "                                                    5             6   \\\n",
      "0                                             Governor         Texas   \n",
      "1                                 State representative     Wisconsin   \n",
      "2                                      President-Elect      New York   \n",
      "3                                           consultant        Oregon   \n",
      "4                                                  NaN     Wisconsin   \n",
      "...                                                ...           ...   \n",
      "1262                                          Governor       Florida   \n",
      "1263                                          Governor      Missouri   \n",
      "1264  senior fellow, Foreign Policy Research Institute  Rhode Island   \n",
      "1265              Governor of Ohio as of Jan. 10, 2011          Ohio   \n",
      "1266                                               NaN           NaN   \n",
      "\n",
      "              7   8    9   10  11  12                                      13  \n",
      "0     republican  30   30  42  23  18                         Radio interview  \n",
      "1       democrat   2    1   0   0   0                       a news conference  \n",
      "2     republican  63  114  51  37  61            comments on ABC's This Week.  \n",
      "3     republican   1    1   3   1   1                            a radio show  \n",
      "4       democrat   5    7   2   2   7                             a web video  \n",
      "...          ...  ..  ...  ..  ..  ..                                     ...  \n",
      "1262  republican  28   23  38  34   7                       a news conference  \n",
      "1263    democrat   2    0   0   1   0                    on ABC's \"This Week\"  \n",
      "1264   columnist   1    0   0   0   0  a commentary in The Providence Journal  \n",
      "1265  republican   9    8  10  18   3                       a news conference  \n",
      "1266    democrat   1    1   0   0   0               an interview with NJToday  \n",
      "\n",
      "[1267 rows x 14 columns]\n"
     ]
    }
   ],
   "source": [
    "##### -- Global variables -- #####\n",
    "fileRaw = 'readyData.csv'\n",
    "\n",
    "##### -- Functions -- #####\n",
    "''' Creates dataframe (Run fuctions) '''\n",
    "def createDataframe(input): \n",
    "    df = pd.read_csv(input)\n",
    "    df = cleanContent(df, 'content')\n",
    "    df = cleanContent(df, 'meta_description')\n",
    "    return df\n",
    "\n",
    "''' Cleans and tokenizes text  '''\n",
    "sno = nltk.stem.SnowballStemmer('english')\n",
    "def cleanContent(input, columnName):\n",
    "    input[columnName] = input[columnName].astype(str) # convert non-string values to string\n",
    "    input[columnName] = input[columnName].str.strip() # remove leading/trailing whitespace\n",
    "    input[columnName] = input[columnName].str.lower()\n",
    "    regexList = ['\\.', ':', '&', ',', '\\?', ' us ', '!', ';', '\\$', '%', '\\(', '\\)', '\\[', '\\]']\n",
    "    stop_words = set(stopwords.words('english'))\n",
    "    regexList += [r'\\b{}\\b'.format(word) for word in stop_words]\n",
    "    pattern = re.compile('|'.join(regexList))\n",
    "    input[columnName] = input[columnName].apply(lambda x: pattern.sub('', x))\n",
    "    input[columnName] = input[columnName].str.replace(r'\\b\\d+-\\d+-\\d+-\\d+\\b', 'phone', regex=True)\n",
    "    input[columnName] = input[columnName].str.replace(r'https?://\\S+|\\bhttp://\\S+', 'url', regex=True)\n",
    "    input[columnName] = input[columnName].str.replace(r'\\b\\d+\\b', 'number', regex=True)\n",
    "    input[columnName] = input[columnName].str.replace(r\"\\b\\w\\b\\s?\\b\", '', regex=True)\n",
    "    input[columnName] = input[columnName].str.replace(r\"['`.*@-]\", '', regex=True)\n",
    "    input[columnName] = input[columnName].str.replace(r'\\s+', ' ', regex=True)\n",
    "    for i in range(0, len(input[columnName])):\n",
    "        colElm = input.at[i, columnName]\n",
    "        if not colElm.isspace() and colElm != \"\":\n",
    "            colElm = nltk.word_tokenize(colElm)\n",
    "            stemmed_words = []\n",
    "            for word in colElm:\n",
    "                stemmed_words.append(sno.stem(word))\n",
    "            stemmed_words = ' '.join(stemmed_words)\n",
    "            input.at[i, columnName] = stemmed_words\n",
    "    return input\n",
    "\n",
    "'''Converts to csv File'''\n",
    "def run(inp):\n",
    "    inp = inp.to_csv('cleanedNews.csv', index = True)\n",
    "\n",
    "##### -- Calls -- #####\n",
    "run(createDataframe(fileRaw))"
   ]
  },
  {
   "attachments": {},
   "cell_type": "markdown",
   "metadata": {},
   "source": [
    "##### Data overview 2 #####"
   ]
  },
  {
   "cell_type": "code",
   "execution_count": null,
   "metadata": {},
   "outputs": [
    {
     "name": "stdout",
     "output_type": "stream",
     "text": [
      "Most used words in clean and raw\n",
      "['number', '’', '“', '”', 'one', 'trump', 'state', 'peopl', 'would', 'time', 'year', 'like', 'blockchain', 'new', 'said', 'use', 'also', '–', 'report', 'make', 'get', 'go', 'next', 'even', 'two', '``', 'market', '01:19:41.756632,nan,', 'presid', 'govern', 'say', 'think', 'american', 'mani', '—', 'work', 'first', 'day', 'world', 'right', 'stock', 'nation', 'could', 'take', 'come', 'way', \"''\", 'need', 'may', 'know', 'search', 'see', 'bitcoin', 'call', 'want', 'sourc', 'exceed', 'fact', 'obama', 'includ', 'headlin', 'thing', 'countri', 'well', 'last', 'stori', 'news', 'much', 'support', 'back', 'hous', 'law', 'live', 'look', 'polit', 'democrat', 'good', 'unit', '‘', 'power', 'public', 'help', 'show', 'war', 'week', 'america', 'republican', 'follow', 'chang', 'made', 'life', 'group', 'part', 'end', 'person', 'inform', 'system', 'sinc', 'point', 'continu']\n",
      "['the', 'of', 'to', 'and', 'a', 'in', 'is', 'that', 'for', 'on', 'are', 'as', 'with', 'it', 'this', 'be', 'by', 'was', 'have', 'i', 'you', 'from', 'at', 'not', 'they', 'or', 'we', 'has', 'he', 'but', 'an', 'will', 'his', 'their', 'who', 'all', 'more', 'about', 'your', 'if', 'one', 'can', 'our', 'what', 'would', 'been', 'which', 'when', 'were', 'so', 'blockchain', 'out', 'there', 'people', 'new', 'had', 'no', 'my', 'up', 'than', 'its', '–', 'also', 'just', 'other', 'some', 'like', 'do', 'into', 'these', '&', 'over', 'two', '01:19:41.756632,,', 'how', 'us', 'only', 'any', 'after', 'even', 'most', 'many', 'because', 'said', 'those', '—', 'time', 'could', 'now', 'them', 'first', 'get', 'trump', 'her', 'may', 'it’s', 'being', 'think', 'bitcoin', 'stocks']\n",
      "\n",
      "Words that apear in both list of words:\n",
      "['one', 'trump', 'would', 'time', 'like', 'blockchain', 'new', 'said', 'also', '–', 'get', 'even', 'two', 'think', '—', 'first', 'could', 'may', 'bitcoin']\n"
     ]
    }
   ],
   "source": [
    "##### --  Global variables -- #####\n",
    "fileCleaned = 'cleanedNews.csv'\n",
    "\n",
    "##### --  Functions -- #####\n",
    "''' Creates dictionary of 100 most used times'''\n",
    "def wordDic(input):\n",
    "    file = open(input, 'r',  errors=\"surrogateescape\")\n",
    "    read = file.read().lower()\n",
    "    words = read.split()  \n",
    "    dictionary = {}\n",
    "    for i in words:\n",
    "        if i in dictionary:\n",
    "            dictionary[i] += 1  \n",
    "        else:\n",
    "            dictionary[i] = 1\n",
    "    sort = dict(sorted(dictionary.items(), key=lambda x: x[1], reverse=True))\n",
    "    words = dict(itertools.islice(sort.items(), 100))\n",
    "    return words\n",
    "\n",
    "def something(input):\n",
    "    resultList = list(wordDic(input).items())\n",
    "    lst = []\n",
    "    for elm in resultList:\n",
    "        lst.append(elm[0])\n",
    "    return lst\n",
    "\n",
    "\n",
    "##### --  Prints -- #####\n",
    "print(\"Most used words in clean and raw\")\n",
    "mostUsedWordsClean = (something(fileCleaned))\n",
    "mostUsedWordsRaw = (something(fileRaw))\n",
    "print(mostUsedWordsClean)\n",
    "print(mostUsedWordsRaw) \n",
    "\n",
    "print(\"\\nWords that apear in both list of words:\")\n",
    "doubleAppearances = []\n",
    "for word in mostUsedWordsClean:\n",
    "    if word in mostUsedWordsRaw:\n",
    "        doubleAppearances.append(word)\n",
    "print(doubleAppearances)"
   ]
  },
  {
   "attachments": {},
   "cell_type": "markdown",
   "metadata": {},
   "source": [
    "The above code block solves the following tasks:\n",
    " - Cheks the effect of the cleaning, based on the words apearing in the most used list.\n",
    "\n",
    "--------------------------------------------------------------------------------------------\n",
    "\n",
    " Converts all words to lowercase and creates a dictionary with the count of each word, and then prints the number of times specific words appear in the text."
   ]
  },
  {
   "cell_type": "code",
   "execution_count": null,
   "metadata": {},
   "outputs": [
    {
     "name": "stdout",
     "output_type": "stream",
     "text": [
      "the word number apears: 668333 times\n",
      "the word phone apears: 7696 times\n",
      "the word url apears: 168 times\n"
     ]
    }
   ],
   "source": [
    "def allWordsToDic(input):\n",
    "    ''' Takes all the data and converts it to a dictionary'''\n",
    "    file = open(input, 'r',  errors=\"surrogateescape\")\n",
    "    read = file.read().lower()\n",
    "    words = read.split()  \n",
    "    dictionary = {}\n",
    "    for i in words:\n",
    "        if i in dictionary:\n",
    "            dictionary[i] += 1  \n",
    "        else:\n",
    "            dictionary[i] = 1\n",
    "    return dictionary\n",
    "\n",
    "print(len(allWordsToDic(fileCleaned)))\n",
    "print(\"the word number apears: \" + str(allWordsToDic(fileCleaned)['number']) + ' times')\n",
    "print(\"the word phone apears: \" + str(allWordsToDic(fileCleaned)['phone']) + ' times')\n",
    "print(\"the word url apears: \" + str(allWordsToDic(fileCleaned)['url']) + ' times')"
   ]
  },
  {
   "attachments": {},
   "cell_type": "markdown",
   "metadata": {},
   "source": [
    "##### Ready data for baseline model #####"
   ]
  },
  {
   "cell_type": "code",
   "execution_count": 3,
   "metadata": {},
   "outputs": [
    {
     "name": "stdout",
     "output_type": "stream",
     "text": [
      "\n",
      "80% of DataFrame:\n",
      "(56075, 8)\n",
      "\n",
      "10% of DataFrame:\n",
      "(7010, 8)\n",
      "\n",
      "rest of the 10% of DataFrame:\n",
      "(7009, 8)\n"
     ]
    }
   ],
   "source": [
    "# Split data\n",
    "df = pd.read_csv(('cleanedNews.csv'))\n",
    " \n",
    "# Creating a dataframe with 80% of the data\n",
    "part_80 = df.sample(frac = 0.8)\n",
    "part_80.to_csv('split80_train.csv', index=False)\n",
    "\n",
    "# Creating a dataframe with the rest (20%)\n",
    "rest_part = df.drop(part_80.index) \n",
    "rest_part.to_csv('split20_temp.csv', index=False)\n",
    "\n",
    "# Creating a new dataframe to split the 20 % for test and validation\n",
    "df10 = pd.read_csv('split20_temp.csv')\n",
    "\n",
    "# Creating a dataframe with 50% of the data / 10% of the whole dataset \n",
    "part_50 = df10.sample(frac=0.5)\n",
    "part_50.to_csv('split10_test.csv', index=False)\n",
    "\n",
    "# Creating a dataframe with 50% of the data / 10% of the whole dataset \n",
    "part_50_2 = df10.drop(part_50.index)\n",
    "part_50_2.to_csv('split10_val.csv', index=False)\n",
    "\n",
    "print(\"\\n80% of DataFrame:\")\n",
    "print(part_80.shape)\n",
    "\n",
    "print(\"\\n10% of DataFrame:\")\n",
    "print(part_50.shape)\n",
    "\n",
    "print(\"\\nrest of the 10% of DataFrame:\")\n",
    "print(part_50_2.shape)"
   ]
  },
  {
   "attachments": {},
   "cell_type": "markdown",
   "metadata": {},
   "source": [
    "Prepares the split data, such that a model can be trained."
   ]
  },
  {
   "cell_type": "code",
   "execution_count": 6,
   "metadata": {},
   "outputs": [],
   "source": [
    "##### -- variables -- #####\n",
    "wv = api.load('word2vec-google-news-300')\n",
    "train = pd.read_csv('split80_train.csv')\n",
    "test = pd.read_csv('split10_test.csv')\n",
    "val = pd.read_csv('split10_val.csv')"
   ]
  },
  {
   "attachments": {},
   "cell_type": "markdown",
   "metadata": {},
   "source": [
    "Defines several functions to vectorize text data and create binary labels based on the 'type' column, and then applies these functions to train, test, and validation datasets to create vectorized feature sets and binary labels for each dataset."
   ]
  },
  {
   "cell_type": "code",
   "execution_count": 33,
   "metadata": {},
   "outputs": [
    {
     "name": "stderr",
     "output_type": "stream",
     "text": [
      "C:\\Users\\alx26\\AppData\\Local\\Temp\\ipykernel_6108\\1635698445.py:57: FutureWarning: elementwise comparison failed; returning scalar instead, but in the future will perform elementwise comparison\n",
      "  if elmMeta == 'NaN':\n"
     ]
    }
   ],
   "source": [
    "##### -- Variables -- #####\n",
    "lstOfWordsInWv = []\n",
    "lstOfWordsNotInWv = []\n",
    "\n",
    "##### -- Functions -- #####\n",
    "def sent_vec(sent):\n",
    "    vector_size = wv.vector_size\n",
    "    wv_res = np.zeros(vector_size)\n",
    "    ctr = 1\n",
    "    for w in sent:\n",
    "        if w in wv:\n",
    "            lstOfWordsInWv.append(w)\n",
    "            ctr += 1\n",
    "            wv_res += wv[w]\n",
    "        else:\n",
    "            lstOfWordsNotInWv.append(w)\n",
    "    wv_res = wv_res / ctr\n",
    "    return wv_res\n",
    "\n",
    "''' applies sent_vec to content and returns a list '''\n",
    "def vectorizeContent(inp, col):\n",
    "    return inp[col].apply(lambda x: sent_vec(x.split())).to_list()\n",
    "\n",
    "''' applies sent_vec to meta description and returns a list '''\n",
    "def vectorizeMeta(inp):\n",
    "    lst = []\n",
    "    for i in range(0, inp.shape[0]):\n",
    "        elm = inp.at[i, 'meta_description']\n",
    "        if type(elm) != float: \n",
    "            elm = sent_vec(elm.split())\n",
    "            lst.append(elm)\n",
    "        else:\n",
    "           elm = 'NaN'\n",
    "           lst.append(elm)\n",
    "    return(lst)\n",
    "\n",
    "''' creates a binary list based on the 'type' column \n",
    "    1 == Fake and 0 == Reliable'''\n",
    "def binary(inp):\n",
    "    lst = []\n",
    "    for i in range(0, (inp.shape[0])):\n",
    "        colElm = inp.at[i, 'type']\n",
    "        if colElm == 'fake' or colElm == 'conspiracy':\n",
    "            lst.append(1)\n",
    "        else:\n",
    "            lst.append(0)\n",
    "    return lst\n",
    "\n",
    "''' Returns a list of the average between the vector for meta_description and content '''\n",
    "def connect(input):\n",
    "    lst = []\n",
    "    X_train_meta = vectorizeMeta(input)\n",
    "    X_train_content = vectorizeContent(input, 'content')\n",
    "    for i in range (0, len(X_train_content)):\n",
    "        elmMeta = X_train_meta[i]\n",
    "        elmContent = X_train_content[i]\n",
    "        if elmMeta == 'NaN':\n",
    "            lst.append(elmContent)\n",
    "        else:\n",
    "            avg = (elmMeta + elmContent) / 2\n",
    "            lst.append(avg)\n",
    "    return(lst)\n",
    "\n",
    "##### -- Saves -- #####\n",
    "X_train_meta = connect(train)\n",
    "X_test_meta = connect(test)\n",
    "X_val_meta = connect(val)\n",
    "\n",
    "X_train, y_train = vectorizeContent(train, 'content'), binary(train)\n",
    "X_test, y_test = vectorizeContent(test, 'content'), binary(test)\n",
    "X_val, y_val = vectorizeContent(val, 'content'), binary(val)\n"
   ]
  },
  {
   "attachments": {},
   "cell_type": "markdown",
   "metadata": {},
   "source": [
    "##### Data overview 3 #####"
   ]
  },
  {
   "cell_type": "code",
   "execution_count": null,
   "metadata": {},
   "outputs": [
    {
     "name": "stdout",
     "output_type": "stream",
     "text": [
      "Scatterplot\n"
     ]
    },
    {
     "name": "stderr",
     "output_type": "stream",
     "text": [
      "c:\\Users\\alx26\\anaconda3\\lib\\site-packages\\sklearn\\manifold\\_t_sne.py:780: FutureWarning: The default initialization in TSNE will change from 'random' to 'pca' in 1.2.\n",
      "  warnings.warn(\n",
      "c:\\Users\\alx26\\anaconda3\\lib\\site-packages\\sklearn\\manifold\\_t_sne.py:790: FutureWarning: The default learning rate in TSNE will change from 200.0 to 'auto' in 1.2.\n",
      "  warnings.warn(\n"
     ]
    },
    {
     "data": {
      "image/png": "[encoded data removed]",
      "text/plain": [
       "<Figure size 640x480 with 1 Axes>"
      ]
     },
     "metadata": {},
     "output_type": "display_data"
    },
    {
     "name": "stdout",
     "output_type": "stream",
     "text": [
      "Words used for traning:\n",
      "['suggest', 'parti', 'could', 'win', 'number', 'fewer', 'seat', 'parti', 'general', 'elect', 'america', 'flimsier', 'colossi', 'threaten', 'tend', 'follow', 'familiar', 'script', 'quarter', 'report', 'disappoint', 'media', 'begin', 'stir', 'question', 'financi', 'deal', 'come', 'light', 'ceo', 'emerg', 'bunker', 'announc', 'would', 'well', 'press', 'hell', 'break', 'loos', 'enron', 'lehman', 'brother', 'less', 'go', 'euro', 'danger', 'peopl', 'money', 'oper', 'dishonest', 'sold', 'european', 'singl', 'show', 'sign', 'sever', 'stress', 'lead', 'eu', 'offici', 'ken', 'lay', 'world', 'secur', 'forc', 'nigeria', 'arrest', 'student', 'christian', 'univers', 'central', 'state', 'convert', 'islam', 'christian', 'also', 'arrest', 'man', 'taken', 'local', 'church', 'reader', 'may', 'recal', 'scrapbook', 'redlight', 'camera', 'repres', 'perfect', 'case', 'technolog', 'design', 'creat', 'govern', 'revenu', 'rubric', 'yet', 'fail', 'level', 'across']\n",
      "\n",
      "Words not used for training\n",
      "['analysi', 'antibrexit', 'proleav', '’', 'corpor', 'collaps', 'weari', '“', '”', 'vicious/illinform', 'greedy/destruct', 'shortsel', '’', '’', '’', 'gambl', '’', 'irrespons', 'currenc', 'dodg', 'nasarawa', 'longtim', '’', 'fixat', 'nannystatedom', 'innov', '“', 'safeti', '”', 'everi', 'countri', 'citizenri', 'studi', 'safeti', 'studi', 'accidentpron', '“', 'publicpriv', '”', 'entiti', 'multin', 'compani', 'lopsid', 'hampshir', 'senat', 'incumb', 'jeann', 'shaheen', 'colleg', 'excit', 'arriv', 'colleg', 'countri', '“', 'studi', 'outsid', '”', 'hard—', 'week—', 'funni', 'graduat', 'approxim', 'academ', 'josipa', 'roksa', 'graduat', '“', '”', '“', 'academ', '”', 'illprepar', 'postcolleg', 'graduat', '“', '’', '”', 'surrend', 'euroscept', 'ttip', 'republ', 'kushner', 'deni', 'collud', 'senat', 'numbernumb', 'traditiona', 'hochstein', 'readi', 'filippo', 'recept', 'outsid', 'claud', 'texa', '``', 'necessari', \"''\", 'georg', 'midmarch', 'purpos']\n"
     ]
    },
    {
     "data": {
      "image/png": "[encoded data removed]",
      "text/plain": [
       "<Figure size 640x480 with 1 Axes>"
      ]
     },
     "metadata": {},
     "output_type": "display_data"
    }
   ],
   "source": [
    "##### -- functions -- #####\n",
    "'''Plots the balance of the dataset'''\n",
    "def balanceCheck():\n",
    "    ones = 0\n",
    "    zeros = 0\n",
    "    for num in y_train:\n",
    "        if num == 1:\n",
    "            ones += 1\n",
    "        elif num == 0:\n",
    "            zeros += 1\n",
    "    #Percentage\n",
    "    total = ones + zeros\n",
    "    percentOnes = round(ones/total * 100)\n",
    "    percentZeros = round(zeros/total * 100)\n",
    "    #Plot\n",
    "    fig, ax = plt.subplots()\n",
    "    labels = ['Fake ' + str(percentOnes) + '%', 'Reliable ' + str(percentZeros) + '%']\n",
    "    size = [ones, zeros]\n",
    "    bar_colors = ['tab:red', 'tab:blue']\n",
    "    ax.bar(labels, size, label=labels, color=bar_colors)\n",
    "\n",
    "'''Creates a scatter plot '''\n",
    "def  scatterPlotOfdata(X, Y):\n",
    "    tsne = TSNE(n_components=2, random_state=0)\n",
    "    reduced_vectors = tsne.fit_transform(X)\n",
    "    scatter_colors = ListedColormap(['red', 'blue'])\n",
    "    plt.scatter(reduced_vectors[:,0], reduced_vectors[:,1], c=Y, cmap=scatter_colors)\n",
    "    plt.show()\n",
    "    return reduced_vectors\n",
    "\n",
    "##### --  Prints -- #####\n",
    "print(\"Scatterplot\")\n",
    "scatterPlotOfdata(X_train[:1000], y_train[:1000])\n",
    "print(\"Words used for traning:\")\n",
    "print(lstOfWordsInWv[:100])\n",
    "print(\"\\nWords not used for training\")\n",
    "print(lstOfWordsNotInWv[:100])\n",
    "\n",
    "balanceCheck()\n"
   ]
  },
  {
   "attachments": {},
   "cell_type": "markdown",
   "metadata": {},
   "source": [
    "t-SNE: For dimensionality reduction\n",
    "Scatterplot: There doesn't seem to be any clear patterns on where the position of the points are in correlation to wheter it's fake or reliable. \n",
    "\n",
    "word2vec-GoogleNews-vectors is from 2016, and doesn't contain words such as blockchain and bitcoin. (reference: https://github.com/mmihaltz/word2vec-GoogleNews-vectors)\n"
   ]
  },
  {
   "attachments": {},
   "cell_type": "markdown",
   "metadata": {},
   "source": [
    "##### Baseline model #####"
   ]
  },
  {
   "cell_type": "code",
   "execution_count": null,
   "metadata": {},
   "outputs": [],
   "source": [
    "''' Grid search '''\n",
    "def gridSearch():\n",
    "    hyperparameters = {'penalty': ['l1', 'l2'], \n",
    "                       'class_weight': ['balanced', None], \n",
    "                       'solver': [‘lbfgs’, ‘liblinear’],\n",
    "                       'C': [1000, 100, 10, 1.0, 0.1, 0.01]}\n",
    "    grid_search = GridSearchCV(LogisticRegression(), hyperparameters, cv=5, scoring='accuracy')\n",
    "    grid_search.fit(X_train, y_train)\n",
    "    print('Best hyperparameters:', grid_search.best_params_)\n",
    "    print('Accuracy:', grid_search.best_score_)\n",
    "#gridSearch()"
   ]
  },
  {
   "attachments": {},
   "cell_type": "markdown",
   "metadata": {},
   "source": [
    "For the baseline model we use logistic regression. With the hyperparameters we got from gridsearch. <br>\n",
    "    - Works well with binary classification <br>\n",
    "    - (C=100, class_weight=None, penalty='l1', solver='liblinear') \n",
    "\n",
    "Baseline models with content and w/o meta_description:"
   ]
  },
  {
   "cell_type": "code",
   "execution_count": null,
   "metadata": {},
   "outputs": [],
   "source": [
    "'''Baseline model: Logistic regression with only content'''\n",
    "modelC = sklearn.linear_model.LogisticRegression(C=100, class_weight=None, penalty='l1', solver='liblinear', max_iter=500)\n",
    "modelC.fit(X_train, y_train) \n",
    "y_predC = modelC.predict(X_test) \n",
    "\n",
    "'''Baseline model: Logistic regression with both content and meta_description'''\n",
    "modelM = sklearn.linear_model.LogisticRegression(C=100, class_weight=None, penalty='l1', solver='liblinear', max_iter=500)\n",
    "modelM.fit(X_train_meta, y_train) \n",
    "y_predM = modelM.predict(X_test_meta)"
   ]
  },
  {
   "attachments": {},
   "cell_type": "markdown",
   "metadata": {},
   "source": [
    "Printing metrics"
   ]
  },
  {
   "cell_type": "code",
   "execution_count": 1,
   "metadata": {},
   "outputs": [
    {
     "name": "stdout",
     "output_type": "stream",
     "text": [
      "\n",
      "Without meta_description\n"
     ]
    },
    {
     "ename": "NameError",
     "evalue": "name 'metrics' is not defined",
     "output_type": "error",
     "traceback": [
      "\u001b[1;31m---------------------------------------------------------------------------\u001b[0m",
      "\u001b[1;31mNameError\u001b[0m                                 Traceback (most recent call last)",
      "Cell \u001b[1;32mIn[1], line 3\u001b[0m\n\u001b[0;32m      1\u001b[0m \u001b[39m'''Logistic regression with only content'''\u001b[39;00m\n\u001b[0;32m      2\u001b[0m \u001b[39mprint\u001b[39m(\u001b[39m\"\u001b[39m\u001b[39m\\n\u001b[39;00m\u001b[39mWithout meta_description\u001b[39m\u001b[39m\"\u001b[39m)\n\u001b[1;32m----> 3\u001b[0m \u001b[39mprint\u001b[39m(\u001b[39m\"\u001b[39m\u001b[39mLogistic MSE:\u001b[39m\u001b[39m\"\u001b[39m,metrics\u001b[39m.\u001b[39mmean_squared_error(y_test, y_predC))\n\u001b[0;32m      4\u001b[0m \u001b[39mprint\u001b[39m(\u001b[39m\"\u001b[39m\u001b[39mLogistic Regression Accuracy:\u001b[39m\u001b[39m\"\u001b[39m,metrics\u001b[39m.\u001b[39maccuracy_score(y_test, y_predC))\n\u001b[0;32m      5\u001b[0m \u001b[39mprint\u001b[39m(\u001b[39m\"\u001b[39m\u001b[39mLogistic Regression Precision:\u001b[39m\u001b[39m\"\u001b[39m,metrics\u001b[39m.\u001b[39mprecision_score(y_test, y_predC))\n",
      "\u001b[1;31mNameError\u001b[0m: name 'metrics' is not defined"
     ]
    }
   ],
   "source": [
    "'''Logistic regression with only content'''\n",
    "print(\"\\nWithout meta_description\")\n",
    "print(\"Logistic MSE:\",metrics.mean_squared_error(y_test, y_predC))\n",
    "print(\"Logistic Regression Accuracy:\",metrics.accuracy_score(y_test, y_predC))\n",
    "print(\"Logistic Regression Precision:\",metrics.precision_score(y_test, y_predC))\n",
    "print(\"Logistic Regression Recall:\",metrics.recall_score(y_test, y_predC))\n",
    "\n",
    "'''Logistic regression with both content and meta_description'''\n",
    "print(\"\\nWith meta_description\")\n",
    "print(\"Logistic MSE:\",metrics.mean_squared_error(y_test, y_predM))\n",
    "print(\"Logistic Regression Accuracy:\",metrics.accuracy_score(y_test, y_predM))\n",
    "print(\"Logistic Regression Precision:\",metrics.precision_score(y_test, y_predM))\n",
    "print(\"Logistic Regression Recall:\",metrics.recall_score(y_test, y_predM))\n",
    "\n"
   ]
  },
  {
   "attachments": {},
   "cell_type": "markdown",
   "metadata": {},
   "source": [
    "##### Advanced model #####"
   ]
  },
  {
   "cell_type": "code",
   "execution_count": 54,
   "metadata": {},
   "outputs": [],
   "source": [
    "##### Variables #####\n",
    "df_lair = pd.read_csv('test.tsv', sep = '\\t', header = None)\n",
    "\n",
    "''' Converts statement into a list of word vectors '''\n",
    "def LairToListX(input):\n",
    "    df = (cleanContent(df_lair, 2))\n",
    "    lst = vectorizeContent(df, 2)\n",
    "    return lst\n",
    "\n",
    "''' Converts label into binary list '''\n",
    "def binaryLair(inp):\n",
    "    lst = []\n",
    "    for i in range(0, (inp.shape[0])):\n",
    "        colElm = inp.at[i, 1]\n",
    "        if colElm == 'true' or colElm == 'mostly-true':\n",
    "            lst.append(0)\n",
    "        else:\n",
    "            lst.append(1)\n",
    "    return lst\n",
    "\n",
    "lairX_test = LairToListX(df_lair)\n",
    "lairY_test = binaryLair(df_lair)"
   ]
  }
 ],
 "metadata": {
  "kernelspec": {
   "display_name": "base",
   "language": "python",
   "name": "python3"
  },
  "language_info": {
   "codemirror_mode": {
    "name": "ipython",
    "version": 3
   },
   "file_extension": ".py",
   "mimetype": "text/x-python",
   "name": "python",
   "nbconvert_exporter": "python",
   "pygments_lexer": "ipython3",
   "version": "3.9.13"
  },
  "orig_nbformat": 4
 },
 "nbformat": 4,
 "nbformat_minor": 2
}
